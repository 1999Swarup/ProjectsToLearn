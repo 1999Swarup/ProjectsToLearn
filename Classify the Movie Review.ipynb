{
 "cells": [
  {
   "cell_type": "code",
   "execution_count": 1,
   "metadata": {},
   "outputs": [
    {
     "name": "stderr",
     "output_type": "stream",
     "text": [
      "Using TensorFlow backend.\n"
     ]
    }
   ],
   "source": [
    "from keras.datasets import imdb\n",
    "(train_data,train_labels),(test_data,test_labels)=imdb.load_data(num_words=10000)"
   ]
  },
  {
   "cell_type": "code",
   "execution_count": 10,
   "metadata": {},
   "outputs": [
    {
     "name": "stdout",
     "output_type": "stream",
     "text": [
      "[1, 14, 22, 16, 43, 530, 973, 1622, 1385, 65, 458, 4468, 66, 3941, 4, 173, 36, 256, 5, 25, 100, 43, 838, 112, 50, 670, 2, 9, 35, 480, 284, 5, 150, 4, 172, 112, 167, 2, 336, 385, 39, 4, 172, 4536, 1111, 17, 546, 38, 13, 447, 4, 192, 50, 16, 6, 147, 2025, 19, 14, 22, 4, 1920, 4613, 469, 4, 22, 71, 87, 12, 16, 43, 530, 38, 76, 15, 13, 1247, 4, 22, 17, 515, 17, 12, 16, 626, 18, 2, 5, 62, 386, 12, 8, 316, 8, 106, 5, 4, 2223, 5244, 16, 480, 66, 3785, 33, 4, 130, 12, 16, 38, 619, 5, 25, 124, 51, 36, 135, 48, 25, 1415, 33, 6, 22, 12, 215, 28, 77, 52, 5, 14, 407, 16, 82, 2, 8, 4, 107, 117, 5952, 15, 256, 4, 2, 7, 3766, 5, 723, 36, 71, 43, 530, 476, 26, 400, 317, 46, 7, 4, 2, 1029, 13, 104, 88, 4, 381, 15, 297, 98, 32, 2071, 56, 26, 141, 6, 194, 7486, 18, 4, 226, 22, 21, 134, 476, 26, 480, 5, 144, 30, 5535, 18, 51, 36, 28, 224, 92, 25, 104, 4, 226, 65, 16, 38, 1334, 88, 12, 16, 283, 5, 16, 4472, 113, 103, 32, 15, 16, 5345, 19, 178, 32]\n",
      "1\n",
      "(25000,)\n"
     ]
    }
   ],
   "source": [
    "print(train_data[0])\n",
    "print(train_labels[0])\n",
    "\n",
    "print(train_data.shape)"
   ]
  },
  {
   "cell_type": "code",
   "execution_count": null,
   "metadata": {},
   "outputs": [
    {
     "name": "stdout",
     "output_type": "stream",
     "text": [
      "(15000, 10000)\n",
      "(10000, 10000)\n"
     ]
    }
   ],
   "source": [
    "import numpy as np\n",
    "def vectorize_sequences(sequences, dimension=10000):\n",
    "    results = np.zeros((len(sequences), dimension))\n",
    "    for i, sequence in enumerate(sequences):\n",
    "        results[i, sequence] = 1.\n",
    "    return results\n",
    "\n",
    "\n",
    "x_train = vectorize_sequences(train_data)\n",
    "x_test = vectorize_sequences(test_data)\n",
    "\n",
    "y_train = np.asarray(train_labels).astype('float32')\n",
    "y_test = np.asarray(test_labels).astype('float32')\n",
    "\n",
    "x_val = x_train[:10000]\n",
    "partial_x_train = x_train[10000:]\n",
    "\n",
    "y_val = y_train[:10000]\n",
    "partial_y_train = y_train[10000:]\n",
    "\n",
    "print(partial_x_train.shape)\n",
    "print(x_val.shape)"
   ]
  },
  {
   "cell_type": "code",
   "execution_count": 7,
   "metadata": {},
   "outputs": [],
   "source": [
    "from keras import models\n",
    "from keras import layers\n",
    "model = models.Sequential()\n",
    "model.add(layers.Dense(16, activation='relu', input_shape=(10000,)))\n",
    "model.add(layers.Dense(16, activation='relu'))\n",
    "model.add(layers.Dense(1, activation='sigmoid'))"
   ]
  },
  {
   "cell_type": "code",
   "execution_count": 8,
   "metadata": {},
   "outputs": [],
   "source": [
    "model.compile(optimizer='rmsprop',\n",
    "loss='binary_crossentropy',\n",
    "metrics=['accuracy'])"
   ]
  },
  {
   "cell_type": "code",
   "execution_count": 9,
   "metadata": {},
   "outputs": [
    {
     "name": "stdout",
     "output_type": "stream",
     "text": [
      "Train on 15000 samples, validate on 10000 samples\n",
      "Epoch 1/20\n",
      "15000/15000 [==============================] - 43s 3ms/step - loss: 0.5029 - accuracy: 0.7822 - val_loss: 0.3902 - val_accuracy: 0.8476\n",
      "Epoch 2/20\n",
      "15000/15000 [==============================] - 2s 157us/step - loss: 0.2941 - accuracy: 0.9017 - val_loss: 0.2952 - val_accuracy: 0.8903\n",
      "Epoch 3/20\n",
      "15000/15000 [==============================] - 2s 166us/step - loss: 0.2155 - accuracy: 0.9290 - val_loss: 0.2753 - val_accuracy: 0.8919\n",
      "Epoch 4/20\n",
      "15000/15000 [==============================] - 2s 131us/step - loss: 0.1682 - accuracy: 0.9457 - val_loss: 0.2794 - val_accuracy: 0.8887\n",
      "Epoch 5/20\n",
      "15000/15000 [==============================] - 2s 133us/step - loss: 0.1392 - accuracy: 0.9557 - val_loss: 0.2828 - val_accuracy: 0.8863\n",
      "Epoch 6/20\n",
      "15000/15000 [==============================] - 2s 137us/step - loss: 0.1104 - accuracy: 0.9665 - val_loss: 0.3042 - val_accuracy: 0.8841\n",
      "Epoch 7/20\n",
      "15000/15000 [==============================] - 2s 134us/step - loss: 0.0947 - accuracy: 0.9703 - val_loss: 0.3155 - val_accuracy: 0.8829\n",
      "Epoch 8/20\n",
      "15000/15000 [==============================] - 2s 148us/step - loss: 0.0744 - accuracy: 0.9796 - val_loss: 0.3555 - val_accuracy: 0.8752\n",
      "Epoch 9/20\n",
      "15000/15000 [==============================] - 2s 141us/step - loss: 0.0603 - accuracy: 0.9846 - val_loss: 0.3659 - val_accuracy: 0.8774\n",
      "Epoch 10/20\n",
      "15000/15000 [==============================] - 2s 133us/step - loss: 0.0483 - accuracy: 0.9883 - val_loss: 0.3999 - val_accuracy: 0.8748\n",
      "Epoch 11/20\n",
      "15000/15000 [==============================] - 2s 140us/step - loss: 0.0386 - accuracy: 0.9919 - val_loss: 0.4539 - val_accuracy: 0.8678\n",
      "Epoch 12/20\n",
      "15000/15000 [==============================] - 2s 142us/step - loss: 0.0345 - accuracy: 0.9914 - val_loss: 0.4496 - val_accuracy: 0.8751\n",
      "Epoch 13/20\n",
      "15000/15000 [==============================] - 2s 163us/step - loss: 0.0253 - accuracy: 0.9957 - val_loss: 0.4820 - val_accuracy: 0.8722\n",
      "Epoch 14/20\n",
      "15000/15000 [==============================] - 2s 159us/step - loss: 0.0217 - accuracy: 0.9952 - val_loss: 0.5114 - val_accuracy: 0.8714\n",
      "Epoch 15/20\n",
      "15000/15000 [==============================] - 2s 163us/step - loss: 0.0148 - accuracy: 0.9980 - val_loss: 0.5473 - val_accuracy: 0.8670\n",
      "Epoch 16/20\n",
      "15000/15000 [==============================] - 2s 160us/step - loss: 0.0109 - accuracy: 0.9992 - val_loss: 0.5951 - val_accuracy: 0.8628\n",
      "Epoch 17/20\n",
      "15000/15000 [==============================] - 2s 151us/step - loss: 0.0106 - accuracy: 0.9985 - val_loss: 0.6129 - val_accuracy: 0.8660\n",
      "Epoch 18/20\n",
      "15000/15000 [==============================] - 2s 152us/step - loss: 0.0061 - accuracy: 0.9997 - val_loss: 0.8579 - val_accuracy: 0.8384\n",
      "Epoch 19/20\n",
      "15000/15000 [==============================] - 2s 155us/step - loss: 0.0049 - accuracy: 0.9996 - val_loss: 0.6838 - val_accuracy: 0.8653\n",
      "Epoch 20/20\n",
      "15000/15000 [==============================] - 2s 140us/step - loss: 0.0076 - accuracy: 0.9981 - val_loss: 0.7181 - val_accuracy: 0.8647\n"
     ]
    }
   ],
   "source": [
    "history = model.fit(partial_x_train,\n",
    "partial_y_train,\n",
    "epochs=20,\n",
    "batch_size=512,\n",
    "validation_data=(x_val, y_val))"
   ]
  },
  {
   "cell_type": "code",
   "execution_count": null,
   "metadata": {},
   "outputs": [],
   "source": []
  },
  {
   "cell_type": "code",
   "execution_count": null,
   "metadata": {},
   "outputs": [],
   "source": []
  }
 ],
 "metadata": {
  "kernelspec": {
   "display_name": "Python 3",
   "language": "python",
   "name": "python3"
  },
  "language_info": {
   "codemirror_mode": {
    "name": "ipython",
    "version": 3
   },
   "file_extension": ".py",
   "mimetype": "text/x-python",
   "name": "python",
   "nbconvert_exporter": "python",
   "pygments_lexer": "ipython3",
   "version": "3.7.4"
  }
 },
 "nbformat": 4,
 "nbformat_minor": 2
}
