{
 "cells": [
  {
   "cell_type": "markdown",
   "metadata": {},
   "source": [
    "We 1st import the operating system by writing \"import os\"\n"
   ]
  },
  {
   "cell_type": "code",
   "execution_count": 35,
   "metadata": {},
   "outputs": [],
   "source": [
    "import osfrom tensorflow.python.keras.applications import ResNet50\n",
    "\n",
    "my_model = ResNet50(weights='../input/resnet50/resnet50_weights_tf_dim_ordering_tf_kernels.h5')\n",
    "test_data = read_and_prep_images(img_paths)\n",
    "preds = my_model.predict(test_data)"
   ]
  },
  {
   "cell_type": "markdown",
   "metadata": {},
   "source": [
    "img_dir is used to create a directory to keep the images to train with\n",
    "and the img_path has the list of paths after joining the 4 testing jpeg's to the old directory."
   ]
  },
  {
   "cell_type": "code",
   "execution_count": 36,
   "metadata": {},
   "outputs": [],
   "source": [
    "img_dir='../Users/This PC/OneDrive/Desktop/24/'\n",
    "img_paths=[os.path.join(img_dir,file_name) for file_name in ['10_right.jpeg','23_right.jpeg','25_right.jpeg','21_left.jpeg']]"
   ]
  },
  {
   "cell_type": "markdown",
   "metadata": {},
   "source": [
    "now we import numpy and keras to perform different works and define a function to read and prepare images for creating a model"
   ]
  },
  {
   "cell_type": "markdown",
   "metadata": {},
   "source": [
    "*We use resnet50 to import the method preprocess_input from it,that performs some arithmatic operations on the pixel value of those img arrays and bring them between 0 to 1 or -1 to 1.\n",
    "\n",
    "*\"load_img\" is used to load the train images 1 by1 into the list known as \"imgs\" and then we use the \"img_to_array\" method to convert each image into a 3d array and then combining the whole system of images behaves like a 4d numpy array stored in \"img_array\"."
   ]
  },
  {
   "cell_type": "code",
   "execution_count": 37,
   "metadata": {},
   "outputs": [],
   "source": [
    "import numpy as np\n",
    "from keras.applications.resnet50 import preprocess_input \n",
    "from keras.preprocessing.image import load_img, img_to_array \n",
    "\n",
    "image_size=683 \n",
    "\n",
    "def read_and_prep_images(img_paths, img_height=image_size, img_width=image_size):\n",
    "    imgs = [load_img(img_path, target_size=(img_height, img_width)) for img_path in img_paths]\n",
    "    img_array = np.array([img_to_array(img) for img in imgs])\n",
    "    output = preprocess_input(img_array)\n",
    "    return(output)"
   ]
  },
  {
   "cell_type": "code",
   "execution_count": null,
   "metadata": {},
   "outputs": [],
   "source": []
  }
 ],
 "metadata": {
  "kernelspec": {
   "display_name": "Python 3",
   "language": "python",
   "name": "python3"
  },
  "language_info": {
   "codemirror_mode": {
    "name": "ipython",
    "version": 3
   },
   "file_extension": ".py",
   "mimetype": "text/x-python",
   "name": "python",
   "nbconvert_exporter": "python",
   "pygments_lexer": "ipython3",
   "version": "3.7.4"
  }
 },
 "nbformat": 4,
 "nbformat_minor": 2
}
