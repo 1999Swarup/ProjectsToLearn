{
 "cells": [
  {
   "cell_type": "markdown",
   "metadata": {},
   "source": [
    "# Learn to classify movie reviews as posetive or negative based on the text content of the reviews\n"
   ]
  },
  {
   "cell_type": "markdown",
   "metadata": {},
   "source": [
    "# L1"
   ]
  },
  {
   "cell_type": "code",
   "execution_count": 1,
   "metadata": {},
   "outputs": [
    {
     "name": "stderr",
     "output_type": "stream",
     "text": [
      "Using TensorFlow backend.\n"
     ]
    }
   ],
   "source": [
    "from keras.datasets import imdb\n",
    "(train_rev,train_labels),(test_rev,test_labels)=imdb.load_data(num_words=10000)"
   ]
  },
  {
   "cell_type": "markdown",
   "metadata": {},
   "source": [
    "We have selected 50% reviews for training and 50% for testing.BuT now to make the formation of floating vector formation  easier ,I want only 10000  keep the top 10,000 most frequently occurring words in the training data. Rare words will be discarded. This allows me to work with vector data of manageable size.The reviews(train_rev or test_rev) are lists of reviews 25000 each and than each review is again a list of word-indices(sequence of words encoded in a special way)[##word_index is a dictionary mapping\n",
    "words to an integer index##] whereas the train_labels and test_labels are composed of 0's for negative reviews and 1's for posetive reviews."
   ]
  },
  {
   "cell_type": "markdown",
   "metadata": {},
   "source": [
    "# clear out "
   ]
  },
  {
   "cell_type": "code",
   "execution_count": 2,
   "metadata": {},
   "outputs": [
    {
     "name": "stdout",
     "output_type": "stream",
     "text": [
      "[1, 14, 22, 16, 43, 530, 973, 1622, 1385, 65, 458, 4468, 66, 3941, 4, 173, 36, 256, 5, 25, 100, 43, 838, 112, 50, 670, 2, 9, 35, 480, 284, 5, 150, 4, 172, 112, 167, 2, 336, 385, 39, 4, 172, 4536, 1111, 17, 546, 38, 13, 447, 4, 192, 50, 16, 6, 147, 2025, 19, 14, 22, 4, 1920, 4613, 469, 4, 22, 71, 87, 12, 16, 43, 530, 38, 76, 15, 13, 1247, 4, 22, 17, 515, 17, 12, 16, 626, 18, 2, 5, 62, 386, 12, 8, 316, 8, 106, 5, 4, 2223, 5244, 16, 480, 66, 3785, 33, 4, 130, 12, 16, 38, 619, 5, 25, 124, 51, 36, 135, 48, 25, 1415, 33, 6, 22, 12, 215, 28, 77, 52, 5, 14, 407, 16, 82, 2, 8, 4, 107, 117, 5952, 15, 256, 4, 2, 7, 3766, 5, 723, 36, 71, 43, 530, 476, 26, 400, 317, 46, 7, 4, 2, 1029, 13, 104, 88, 4, 381, 15, 297, 98, 32, 2071, 56, 26, 141, 6, 194, 7486, 18, 4, 226, 22, 21, 134, 476, 26, 480, 5, 144, 30, 5535, 18, 51, 36, 28, 224, 92, 25, 104, 4, 226, 65, 16, 38, 1334, 88, 12, 16, 283, 5, 16, 4472, 113, 103, 32, 15, 16, 5345, 19, 178, 32]\n",
      "1\n"
     ]
    }
   ],
   "source": [
    "print(train_rev[0])\n",
    "print(train_labels[0])"
   ]
  },
  {
   "cell_type": "code",
   "execution_count": 3,
   "metadata": {},
   "outputs": [
    {
     "name": "stdout",
     "output_type": "stream",
     "text": [
      "? this film was just brilliant casting location scenery story direction everyone's really suited the part they played and you could just imagine being there robert ? is an amazing actor and now the same being director ? father came from the same scottish island as myself so i loved the fact there was a real connection with this film the witty remarks throughout the film were great it was just brilliant so much that i bought the film as soon as it was released for ? and would recommend it to everyone to watch and the fly fishing was amazing really cried at the end it was so sad and you know what they say if you cry at a film it must have been good and this definitely was also ? to the two little boy's that played the ? of norman and paul they were just brilliant children are often left out of the ? list i think because the stars that play them all grown up are such a big profile for the whole film but these children are amazing and should be praised for what they have done don't you think the whole story was so lovely because it was true and was someone's life after all that was shared with us all\n"
     ]
    }
   ],
   "source": [
    "word_index = imdb.get_word_index()#word_index is a dictionary mapping words to an integer index\n",
    "reverse_word_index = dict([(value, key) for (key, value) in word_index.items()])#Reverses it, mapping integer indices to words\n",
    "decoded_review = ' '.join([reverse_word_index.get(i - 3, '?') for i in train_rev[0]])\n",
    "#Decodes the review. Note that the indices are offset by 3 because 0, 1, and 2 are reserved indices for “padding,” “start of sequence,” and “unknown.”\n",
    "print(decoded_review)"
   ]
  },
  {
   "cell_type": "code",
   "execution_count": 4,
   "metadata": {},
   "outputs": [
    {
     "name": "stdout",
     "output_type": "stream",
     "text": [
      "1.0 [0. 1. 1. ... 0. 0. 0.]\n"
     ]
    }
   ],
   "source": [
    "import numpy as np\n",
    "def vectorize_sequences(sequences, dimension):\n",
    "    results=np.zeros((len(sequences),dimension))#Creates an all-zero matrix of shape (len(sequences),dimension)i.e(25000,10000)\n",
    "    for i, sequence in enumerate(sequences):\n",
    "        results[i, sequence] = 1.#Sets specific indices of results[i] to 1s of each 25000 reviews\n",
    "    return results\n",
    "  \n",
    "#vectorised training and testing data  \n",
    "v_train_rev = vectorize_sequences(train_rev,10000)\n",
    "v_test_rev = vectorize_sequences(test_rev,10000)\n",
    "\n",
    "#vectorised training and testing labels\n",
    "v_train_labels = np.asarray(train_labels).astype('float32')\n",
    "v_test_labels = np.asarray(test_labels).astype('float32')\n",
    "\n",
    "print(v_train_labels[0],v_train_rev[0])"
   ]
  },
  {
   "cell_type": "markdown",
   "metadata": {},
   "source": [
    "So all the train and test data's are vectorised by \"enumerating the sequences\" and keeping them into an array."
   ]
  },
  {
   "cell_type": "code",
   "execution_count": 5,
   "metadata": {},
   "outputs": [],
   "source": [
    "from keras import models\n",
    "from keras import layers\n",
    "model = models.Sequential()\n",
    "model.add(layers.Dense(16, activation='relu', input_shape=(10000,)))\n",
    "model.add(layers.Dense(16, activation='relu'))\n",
    "model.add(layers.Dense(1, activation='sigmoid'))"
   ]
  },
  {
   "cell_type": "markdown",
   "metadata": {},
   "source": [
    "Here the Dense layer has 16 hidden units in it and in last we choose the sigmoid activation function ,to correctly give the output i.e. the probability of the output to be posetive(1) or negative(0)."
   ]
  },
  {
   "cell_type": "code",
   "execution_count": 6,
   "metadata": {},
   "outputs": [],
   "source": [
    "model.compile(optimizer='rmsprop',\n",
    "loss='binary_crossentropy',\n",
    "metrics=['accuracy'])"
   ]
  },
  {
   "cell_type": "markdown",
   "metadata": {},
   "source": [
    "Finally, you need to choose a loss function and an optimizer. Because you’re facing a\n",
    "binary classification problem and the output of your network is a probability (you end\n",
    "your network with a single-unit layer with a sigmoid activation), it’s best to use the 'binary_crossentropy'."
   ]
  },
  {
   "cell_type": "code",
   "execution_count": 9,
   "metadata": {},
   "outputs": [],
   "source": [
    "x_val =v_train_rev[:10000]\n",
    "partial_x_train = v_train_rev[10000:]\n",
    "y_val = v_train_labels[:10000]\n",
    "partial_y_train= v_train_labels[10000:]"
   ]
  },
  {
   "cell_type": "markdown",
   "metadata": {},
   "source": [
    "To monitor during training the accuracy of the model on data it has never\n",
    "seen before, you’ll create a validation set by setting apart 10,000 samples from the\n",
    "original training data.\n",
    "\n",
    "Now train the model for 20 epochs (20 iterations over all samples in the\n",
    "v_train_rev and v_train_labels tensors), in mini-batches of 512 samples. At the same time,\n",
    "you’ll monitor loss and accuracy on the 10,000 samples that you set apart. You do so by\n",
    "passing the validation data as the validation_data argument."
   ]
  },
  {
   "cell_type": "code",
   "execution_count": 13,
   "metadata": {},
   "outputs": [
    {
     "name": "stdout",
     "output_type": "stream",
     "text": [
      "Train on 15000 samples, validate on 10000 samples\n",
      "Epoch 1/20\n",
      "15000/15000 [==============================] - 2s 157us/step - loss: 0.0094 - acc: 0.9973 - val_loss: 0.7315 - val_acc: 0.8636\n",
      "Epoch 2/20\n",
      "15000/15000 [==============================] - 2s 144us/step - loss: 0.0057 - acc: 0.9988 - val_loss: 0.7624 - val_acc: 0.8631\n",
      "Epoch 3/20\n",
      "15000/15000 [==============================] - 2s 161us/step - loss: 0.0022 - acc: 0.9999 - val_loss: 0.7905 - val_acc: 0.8614\n",
      "Epoch 4/20\n",
      "15000/15000 [==============================] - 2s 142us/step - loss: 0.0022 - acc: 0.9997 - val_loss: 1.0090 - val_acc: 0.8487\n",
      "Epoch 5/20\n",
      "15000/15000 [==============================] - 2s 146us/step - loss: 0.0025 - acc: 0.9996 - val_loss: 0.8681 - val_acc: 0.8613\n",
      "Epoch 6/20\n",
      "15000/15000 [==============================] - 2s 144us/step - loss: 0.0010 - acc: 1.0000 - val_loss: 0.9265 - val_acc: 0.8582\n",
      "Epoch 7/20\n",
      "15000/15000 [==============================] - 2s 147us/step - loss: 0.0036 - acc: 0.9989 - val_loss: 0.9579 - val_acc: 0.8598\n",
      "Epoch 8/20\n",
      "15000/15000 [==============================] - 2s 141us/step - loss: 5.2955e-04 - acc: 1.0000 - val_loss: 0.9801 - val_acc: 0.8590\n",
      "Epoch 9/20\n",
      "15000/15000 [==============================] - 2s 144us/step - loss: 0.0013 - acc: 0.9996 - val_loss: 1.0302 - val_acc: 0.8601\n",
      "Epoch 10/20\n",
      "15000/15000 [==============================] - 2s 147us/step - loss: 3.7229e-04 - acc: 1.0000 - val_loss: 1.0457 - val_acc: 0.8576\n",
      "Epoch 11/20\n",
      "15000/15000 [==============================] - 2s 149us/step - loss: 2.8055e-04 - acc: 1.0000 - val_loss: 1.0886 - val_acc: 0.8564\n",
      "Epoch 12/20\n",
      "15000/15000 [==============================] - 2s 144us/step - loss: 0.0040 - acc: 0.9992 - val_loss: 1.1374 - val_acc: 0.8560\n",
      "Epoch 13/20\n",
      "15000/15000 [==============================] - 2s 155us/step - loss: 1.5862e-04 - acc: 1.0000 - val_loss: 1.1464 - val_acc: 0.8558\n",
      "Epoch 14/20\n",
      "15000/15000 [==============================] - 2s 146us/step - loss: 1.3591e-04 - acc: 1.0000 - val_loss: 1.1691 - val_acc: 0.8559\n",
      "Epoch 15/20\n",
      "15000/15000 [==============================] - 2s 147us/step - loss: 0.0022 - acc: 0.9993 - val_loss: 1.2815 - val_acc: 0.8507\n",
      "Epoch 16/20\n",
      "15000/15000 [==============================] - 2s 146us/step - loss: 1.4393e-04 - acc: 1.0000 - val_loss: 1.2276 - val_acc: 0.8555\n",
      "Epoch 17/20\n",
      "15000/15000 [==============================] - 2s 157us/step - loss: 7.8836e-05 - acc: 1.0000 - val_loss: 1.2432 - val_acc: 0.8558\n",
      "Epoch 18/20\n",
      "15000/15000 [==============================] - 2s 164us/step - loss: 6.5804e-05 - acc: 1.0000 - val_loss: 1.2819 - val_acc: 0.8547\n",
      "Epoch 19/20\n",
      "15000/15000 [==============================] - 2s 153us/step - loss: 0.0023 - acc: 0.9993 - val_loss: 1.3385 - val_acc: 0.8553\n",
      "Epoch 20/20\n",
      "15000/15000 [==============================] - 2s 151us/step - loss: 4.6582e-05 - acc: 1.0000 - val_loss: 1.3424 - val_acc: 0.8565\n"
     ]
    }
   ],
   "source": [
    "model.compile(optimizer='rmsprop',\n",
    "loss='binary_crossentropy',\n",
    "metrics=['acc'])\n",
    "history = model.fit(partial_x_train,\n",
    "partial_y_train,\n",
    "epochs=20,\n",
    "batch_size=512,\n",
    "validation_data=(x_val, y_val))"
   ]
  },
  {
   "cell_type": "markdown",
   "metadata": {},
   "source": [
    "On CPU, this will take less than 2 seconds per epoch—training is over in 20 seconds.\n",
    "At the end of every epoch, there is a slight pause as the model computes its loss and\n",
    "accuracy on the 10,000 samples of the validation data.\n",
    "Note that the call to model.fit() returns a History object. This object has a member\n",
    "history, which is a dictionary containing data about everything that happened\n",
    "during training.\n",
    "The dictionary contains four entries: one per metric that was being monitored during\n",
    "training and during validation."
   ]
  },
  {
   "cell_type": "code",
   "execution_count": 14,
   "metadata": {},
   "outputs": [
    {
     "data": {
      "text/plain": [
       "dict_keys(['val_loss', 'val_acc', 'loss', 'acc'])"
      ]
     },
     "execution_count": 14,
     "metadata": {},
     "output_type": "execute_result"
    }
   ],
   "source": [
    "history_dict = history.history\n",
    "history_dict.keys()"
   ]
  },
  {
   "cell_type": "markdown",
   "metadata": {},
   "source": [
    "We see,the training loss decreases with every epoch, and the training accuracy\n",
    "increases with every epoch. That’s what you would expect when running gradientdescent\n",
    "optimization—the quantity you’re trying to minimize should be less with\n",
    "every iteration. But that isn’t the case for the validation loss and accuracy: they seem to\n",
    "peak at the fourth epoch. This is an example of what we warned against earlier: a\n",
    "model that performs better on the training data isn’t necessarily a model that will do\n",
    "better on data it has never seen before. In precise terms, what you’re seeing is overfitting:\n",
    "after the second epoch, you’re overoptimizing on the training data, and you end\n",
    "up learning representations that are specific to the training data and don’t generalize\n",
    "to data outside of the training set.\n",
    "In this case, to prevent overfitting, you could stop training after three epochs. In\n",
    "general, you can use a range of techniques to mitigate overfitting, which we’ll cover in\n",
    "chapter 4.\n",
    "Let’s train a new network from scratch for four epochs and then evaluate it on the\n",
    "test data."
   ]
  },
  {
   "cell_type": "code",
   "execution_count": 22,
   "metadata": {},
   "outputs": [
    {
     "name": "stdout",
     "output_type": "stream",
     "text": [
      "Epoch 1/4\n",
      "25000/25000 [==============================] - 3s 103us/step - loss: 0.4499 - accuracy: 0.8201\n",
      "Epoch 2/4\n",
      "25000/25000 [==============================] - 2s 97us/step - loss: 0.2610 - accuracy: 0.9082\n",
      "Epoch 3/4\n",
      "25000/25000 [==============================] - 3s 106us/step - loss: 0.2015 - accuracy: 0.9292\n",
      "Epoch 4/4\n",
      "25000/25000 [==============================] - 2s 90us/step - loss: 0.1629 - accuracy: 0.9430\n",
      "25000/25000 [==============================] - 6s 230us/step\n"
     ]
    }
   ],
   "source": [
    "model = models.Sequential()\n",
    "model.add(layers.Dense(16, activation='relu', input_shape=(10000,)))\n",
    "model.add(layers.Dense(16, activation='relu'))\n",
    "model.add(layers.Dense(1, activation='sigmoid'))\n",
    "\n",
    "model.compile(optimizer='rmsprop',\n",
    "loss='binary_crossentropy',\n",
    "metrics=['accuracy'])\n",
    "\n",
    "model.fit(v_train_rev, v_train_labels, epochs=4, batch_size=512)\n",
    "results = model.evaluate(v_test_rev, v_test_labels)"
   ]
  },
  {
   "cell_type": "markdown",
   "metadata": {},
   "source": [
    "After having trained a network, you’ll want to use it in a practical setting. You can generate\n",
    "the likelihood of reviews being positive by using the predict method:"
   ]
  },
  {
   "cell_type": "code",
   "execution_count": 24,
   "metadata": {},
   "outputs": [
    {
     "data": {
      "text/plain": [
       "array([[0.14538136],\n",
       "       [0.9999037 ],\n",
       "       [0.5846022 ],\n",
       "       ...,\n",
       "       [0.08934146],\n",
       "       [0.06179169],\n",
       "       [0.40290856]], dtype=float32)"
      ]
     },
     "execution_count": 24,
     "metadata": {},
     "output_type": "execute_result"
    }
   ],
   "source": [
    "model.predict(v_test_rev)"
   ]
  },
  {
   "cell_type": "markdown",
   "metadata": {},
   "source": [
    "# Experiments to do!!"
   ]
  },
  {
   "cell_type": "markdown",
   "metadata": {},
   "source": [
    "You used two hidden layers. Try using one or three hidden layers, and see how\n",
    "doing so affects validation and test accuracy.\n",
    "Try using layers with more hidden units or fewer hidden units: 32 units, 64 units,\n",
    "and so on.\n",
    " Try using the mse loss function instead of binary_crossentropy.\n",
    " Try using the tanh activation (an activation that was popular in the early days of\n",
    "neural networks) instead of relu."
   ]
  }
 ],
 "metadata": {
  "kernelspec": {
   "display_name": "Python 3",
   "language": "python",
   "name": "python3"
  },
  "language_info": {
   "codemirror_mode": {
    "name": "ipython",
    "version": 3
   },
   "file_extension": ".py",
   "mimetype": "text/x-python",
   "name": "python",
   "nbconvert_exporter": "python",
   "pygments_lexer": "ipython3",
   "version": "3.7.4"
  }
 },
 "nbformat": 4,
 "nbformat_minor": 2
}
